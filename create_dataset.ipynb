{
 "cells": [
  {
   "cell_type": "code",
   "execution_count": 1,
   "metadata": {},
   "outputs": [],
   "source": [
    "import pandas as pd\n",
    "import numpy as np\n",
    "import random\n",
    "random.seed(42)\n",
    "import os\n",
    "from shutil import rmtree"
   ]
  },
  {
   "cell_type": "markdown",
   "metadata": {},
   "source": [
    "# Create annotations file"
   ]
  },
  {
   "cell_type": "code",
   "execution_count": 2,
   "metadata": {},
   "outputs": [
    {
     "name": "stdout",
     "output_type": "stream",
     "text": [
      "                                    ID  Label\n",
      "0                ID_12cadc6af_epidural      0\n",
      "1        ID_12cadc6af_intraparenchymal      0\n",
      "2        ID_12cadc6af_intraventricular      0\n",
      "3            ID_12cadc6af_subarachnoid      0\n",
      "4                ID_12cadc6af_subdural      0\n",
      "...                                ...    ...\n",
      "4516837  ID_4a85a3a3f_intraparenchymal      0\n",
      "4516838  ID_4a85a3a3f_intraventricular      0\n",
      "4516839      ID_4a85a3a3f_subarachnoid      0\n",
      "4516840          ID_4a85a3a3f_subdural      0\n",
      "4516841               ID_4a85a3a3f_any      0\n",
      "\n",
      "[4516842 rows x 2 columns]\n"
     ]
    }
   ],
   "source": [
    "DATA_DIR = './rsna-intracranial-hemorrhage-detection/'\n",
    "PATH_TO_CSV = os.path.join(DATA_DIR, 'stage_2_train.csv')\n",
    "df = pd.read_csv(PATH_TO_CSV)\n",
    "print(df)"
   ]
  },
  {
   "cell_type": "code",
   "execution_count": 3,
   "metadata": {},
   "outputs": [
    {
     "data": {
      "text/html": [
       "<div>\n",
       "<style scoped>\n",
       "    .dataframe tbody tr th:only-of-type {\n",
       "        vertical-align: middle;\n",
       "    }\n",
       "\n",
       "    .dataframe tbody tr th {\n",
       "        vertical-align: top;\n",
       "    }\n",
       "\n",
       "    .dataframe thead th {\n",
       "        text-align: right;\n",
       "    }\n",
       "</style>\n",
       "<table border=\"1\" class=\"dataframe\">\n",
       "  <thead>\n",
       "    <tr style=\"text-align: right;\">\n",
       "      <th></th>\n",
       "      <th>ID</th>\n",
       "      <th>Label</th>\n",
       "    </tr>\n",
       "  </thead>\n",
       "  <tbody>\n",
       "    <tr>\n",
       "      <th>5</th>\n",
       "      <td>ID_12cadc6af_any</td>\n",
       "      <td>0</td>\n",
       "    </tr>\n",
       "    <tr>\n",
       "      <th>11</th>\n",
       "      <td>ID_38fd7baa0_any</td>\n",
       "      <td>0</td>\n",
       "    </tr>\n",
       "    <tr>\n",
       "      <th>17</th>\n",
       "      <td>ID_6c5d82413_any</td>\n",
       "      <td>0</td>\n",
       "    </tr>\n",
       "    <tr>\n",
       "      <th>23</th>\n",
       "      <td>ID_aec8e68b3_any</td>\n",
       "      <td>1</td>\n",
       "    </tr>\n",
       "    <tr>\n",
       "      <th>29</th>\n",
       "      <td>ID_4d9209c7c_any</td>\n",
       "      <td>0</td>\n",
       "    </tr>\n",
       "    <tr>\n",
       "      <th>...</th>\n",
       "      <td>...</td>\n",
       "      <td>...</td>\n",
       "    </tr>\n",
       "    <tr>\n",
       "      <th>4516817</th>\n",
       "      <td>ID_41029e8f0_any</td>\n",
       "      <td>0</td>\n",
       "    </tr>\n",
       "    <tr>\n",
       "      <th>4516823</th>\n",
       "      <td>ID_4b74ffd24_any</td>\n",
       "      <td>0</td>\n",
       "    </tr>\n",
       "    <tr>\n",
       "      <th>4516829</th>\n",
       "      <td>ID_e5c02a4ca_any</td>\n",
       "      <td>0</td>\n",
       "    </tr>\n",
       "    <tr>\n",
       "      <th>4516835</th>\n",
       "      <td>ID_8079930a8_any</td>\n",
       "      <td>0</td>\n",
       "    </tr>\n",
       "    <tr>\n",
       "      <th>4516841</th>\n",
       "      <td>ID_4a85a3a3f_any</td>\n",
       "      <td>0</td>\n",
       "    </tr>\n",
       "  </tbody>\n",
       "</table>\n",
       "<p>752807 rows × 2 columns</p>\n",
       "</div>"
      ],
      "text/plain": [
       "                       ID  Label\n",
       "5        ID_12cadc6af_any      0\n",
       "11       ID_38fd7baa0_any      0\n",
       "17       ID_6c5d82413_any      0\n",
       "23       ID_aec8e68b3_any      1\n",
       "29       ID_4d9209c7c_any      0\n",
       "...                   ...    ...\n",
       "4516817  ID_41029e8f0_any      0\n",
       "4516823  ID_4b74ffd24_any      0\n",
       "4516829  ID_e5c02a4ca_any      0\n",
       "4516835  ID_8079930a8_any      0\n",
       "4516841  ID_4a85a3a3f_any      0\n",
       "\n",
       "[752807 rows x 2 columns]"
      ]
     },
     "execution_count": 3,
     "metadata": {},
     "output_type": "execute_result"
    }
   ],
   "source": [
    "df = df[list(map(lambda x: x.split('_')[-1] == 'any', df['ID'].values))]\n",
    "df"
   ]
  },
  {
   "cell_type": "code",
   "execution_count": 4,
   "metadata": {},
   "outputs": [
    {
     "data": {
      "text/html": [
       "<div>\n",
       "<style scoped>\n",
       "    .dataframe tbody tr th:only-of-type {\n",
       "        vertical-align: middle;\n",
       "    }\n",
       "\n",
       "    .dataframe tbody tr th {\n",
       "        vertical-align: top;\n",
       "    }\n",
       "\n",
       "    .dataframe thead th {\n",
       "        text-align: right;\n",
       "    }\n",
       "</style>\n",
       "<table border=\"1\" class=\"dataframe\">\n",
       "  <thead>\n",
       "    <tr style=\"text-align: right;\">\n",
       "      <th></th>\n",
       "      <th>ID</th>\n",
       "      <th>IH</th>\n",
       "    </tr>\n",
       "  </thead>\n",
       "  <tbody>\n",
       "    <tr>\n",
       "      <th>5</th>\n",
       "      <td>ID_12cadc6af</td>\n",
       "      <td>0</td>\n",
       "    </tr>\n",
       "    <tr>\n",
       "      <th>11</th>\n",
       "      <td>ID_38fd7baa0</td>\n",
       "      <td>0</td>\n",
       "    </tr>\n",
       "    <tr>\n",
       "      <th>17</th>\n",
       "      <td>ID_6c5d82413</td>\n",
       "      <td>0</td>\n",
       "    </tr>\n",
       "    <tr>\n",
       "      <th>23</th>\n",
       "      <td>ID_aec8e68b3</td>\n",
       "      <td>1</td>\n",
       "    </tr>\n",
       "    <tr>\n",
       "      <th>29</th>\n",
       "      <td>ID_4d9209c7c</td>\n",
       "      <td>0</td>\n",
       "    </tr>\n",
       "    <tr>\n",
       "      <th>...</th>\n",
       "      <td>...</td>\n",
       "      <td>...</td>\n",
       "    </tr>\n",
       "    <tr>\n",
       "      <th>4516817</th>\n",
       "      <td>ID_41029e8f0</td>\n",
       "      <td>0</td>\n",
       "    </tr>\n",
       "    <tr>\n",
       "      <th>4516823</th>\n",
       "      <td>ID_4b74ffd24</td>\n",
       "      <td>0</td>\n",
       "    </tr>\n",
       "    <tr>\n",
       "      <th>4516829</th>\n",
       "      <td>ID_e5c02a4ca</td>\n",
       "      <td>0</td>\n",
       "    </tr>\n",
       "    <tr>\n",
       "      <th>4516835</th>\n",
       "      <td>ID_8079930a8</td>\n",
       "      <td>0</td>\n",
       "    </tr>\n",
       "    <tr>\n",
       "      <th>4516841</th>\n",
       "      <td>ID_4a85a3a3f</td>\n",
       "      <td>0</td>\n",
       "    </tr>\n",
       "  </tbody>\n",
       "</table>\n",
       "<p>752807 rows × 2 columns</p>\n",
       "</div>"
      ],
      "text/plain": [
       "                   ID  IH\n",
       "5        ID_12cadc6af   0\n",
       "11       ID_38fd7baa0   0\n",
       "17       ID_6c5d82413   0\n",
       "23       ID_aec8e68b3   1\n",
       "29       ID_4d9209c7c   0\n",
       "...               ...  ..\n",
       "4516817  ID_41029e8f0   0\n",
       "4516823  ID_4b74ffd24   0\n",
       "4516829  ID_e5c02a4ca   0\n",
       "4516835  ID_8079930a8   0\n",
       "4516841  ID_4a85a3a3f   0\n",
       "\n",
       "[752807 rows x 2 columns]"
      ]
     },
     "execution_count": 4,
     "metadata": {},
     "output_type": "execute_result"
    }
   ],
   "source": [
    "df['ID'] = df['ID'].apply(lambda x:  x[:-4])\n",
    "df.rename(columns = {'Label' : 'IH'}, inplace = True)\n",
    "df"
   ]
  },
  {
   "cell_type": "code",
   "execution_count": 5,
   "metadata": {},
   "outputs": [
    {
     "data": {
      "text/html": [
       "<div>\n",
       "<style scoped>\n",
       "    .dataframe tbody tr th:only-of-type {\n",
       "        vertical-align: middle;\n",
       "    }\n",
       "\n",
       "    .dataframe tbody tr th {\n",
       "        vertical-align: top;\n",
       "    }\n",
       "\n",
       "    .dataframe thead th {\n",
       "        text-align: right;\n",
       "    }\n",
       "</style>\n",
       "<table border=\"1\" class=\"dataframe\">\n",
       "  <thead>\n",
       "    <tr style=\"text-align: right;\">\n",
       "      <th></th>\n",
       "      <th>ID</th>\n",
       "      <th>IH</th>\n",
       "    </tr>\n",
       "  </thead>\n",
       "  <tbody>\n",
       "    <tr>\n",
       "      <th>5</th>\n",
       "      <td>ID_12cadc6af</td>\n",
       "      <td>0</td>\n",
       "    </tr>\n",
       "    <tr>\n",
       "      <th>11</th>\n",
       "      <td>ID_38fd7baa0</td>\n",
       "      <td>0</td>\n",
       "    </tr>\n",
       "    <tr>\n",
       "      <th>17</th>\n",
       "      <td>ID_6c5d82413</td>\n",
       "      <td>0</td>\n",
       "    </tr>\n",
       "    <tr>\n",
       "      <th>23</th>\n",
       "      <td>ID_aec8e68b3</td>\n",
       "      <td>1</td>\n",
       "    </tr>\n",
       "    <tr>\n",
       "      <th>29</th>\n",
       "      <td>ID_4d9209c7c</td>\n",
       "      <td>0</td>\n",
       "    </tr>\n",
       "    <tr>\n",
       "      <th>...</th>\n",
       "      <td>...</td>\n",
       "      <td>...</td>\n",
       "    </tr>\n",
       "    <tr>\n",
       "      <th>4516817</th>\n",
       "      <td>ID_41029e8f0</td>\n",
       "      <td>0</td>\n",
       "    </tr>\n",
       "    <tr>\n",
       "      <th>4516823</th>\n",
       "      <td>ID_4b74ffd24</td>\n",
       "      <td>0</td>\n",
       "    </tr>\n",
       "    <tr>\n",
       "      <th>4516829</th>\n",
       "      <td>ID_e5c02a4ca</td>\n",
       "      <td>0</td>\n",
       "    </tr>\n",
       "    <tr>\n",
       "      <th>4516835</th>\n",
       "      <td>ID_8079930a8</td>\n",
       "      <td>0</td>\n",
       "    </tr>\n",
       "    <tr>\n",
       "      <th>4516841</th>\n",
       "      <td>ID_4a85a3a3f</td>\n",
       "      <td>0</td>\n",
       "    </tr>\n",
       "  </tbody>\n",
       "</table>\n",
       "<p>752799 rows × 2 columns</p>\n",
       "</div>"
      ],
      "text/plain": [
       "                   ID  IH\n",
       "5        ID_12cadc6af   0\n",
       "11       ID_38fd7baa0   0\n",
       "17       ID_6c5d82413   0\n",
       "23       ID_aec8e68b3   1\n",
       "29       ID_4d9209c7c   0\n",
       "...               ...  ..\n",
       "4516817  ID_41029e8f0   0\n",
       "4516823  ID_4b74ffd24   0\n",
       "4516829  ID_e5c02a4ca   0\n",
       "4516835  ID_8079930a8   0\n",
       "4516841  ID_4a85a3a3f   0\n",
       "\n",
       "[752799 rows x 2 columns]"
      ]
     },
     "execution_count": 5,
     "metadata": {},
     "output_type": "execute_result"
    }
   ],
   "source": [
    "df = df.drop_duplicates(subset=None, keep=False, inplace=False, ignore_index=False)\n",
    "df"
   ]
  },
  {
   "cell_type": "markdown",
   "metadata": {},
   "source": [
    "# Explore DICOM file"
   ]
  },
  {
   "cell_type": "code",
   "execution_count": 6,
   "metadata": {},
   "outputs": [],
   "source": [
    "import pydicom"
   ]
  },
  {
   "cell_type": "code",
   "execution_count": 7,
   "metadata": {},
   "outputs": [],
   "source": [
    "DICOM_DATA_DIR = os.path.join(DATA_DIR, 'stage_2_train')"
   ]
  },
  {
   "cell_type": "code",
   "execution_count": 8,
   "metadata": {},
   "outputs": [
    {
     "data": {
      "text/plain": [
       "'ID_12cadc6af.dcm'"
      ]
     },
     "execution_count": 8,
     "metadata": {},
     "output_type": "execute_result"
    }
   ],
   "source": [
    "dicom_file = f\"{df['ID'].iloc[0]}.dcm\"\n",
    "dicom_file"
   ]
  },
  {
   "cell_type": "code",
   "execution_count": 9,
   "metadata": {},
   "outputs": [],
   "source": [
    "dicom_data = pydicom.dcmread(os.path.join(DICOM_DATA_DIR, dicom_file))"
   ]
  },
  {
   "cell_type": "code",
   "execution_count": 10,
   "metadata": {},
   "outputs": [
    {
     "data": {
      "text/plain": [
       "Dataset.file_meta -------------------------------\n",
       "(0002, 0000) File Meta Information Group Length  UL: 188\n",
       "(0002, 0001) File Meta Information Version       OB: b'\\x00\\x01'\n",
       "(0002, 0002) Media Storage SOP Class UID         UI: CT Image Storage\n",
       "(0002, 0003) Media Storage SOP Instance UID      UI: 1.2.840.4267.32.273105137610979365450109402280489797677\n",
       "(0002, 0010) Transfer Syntax UID                 UI: Explicit VR Little Endian\n",
       "(0002, 0012) Implementation Class UID            UI: 1.2.40.0.13.1.1.1\n",
       "(0002, 0013) Implementation Version Name         SH: 'dcm4che-1.4.35'\n",
       "-------------------------------------------------\n",
       "(0008, 0018) SOP Instance UID                    UI: ID_12cadc6af\n",
       "(0008, 0060) Modality                            CS: 'CT'\n",
       "(0010, 0020) Patient ID                          LO: 'ID_2eb3925f'\n",
       "(0020, 000d) Study Instance UID                  UI: ID_6dec708c74\n",
       "(0020, 000e) Series Instance UID                 UI: ID_1b17a4a944\n",
       "(0020, 0010) Study ID                            SH: ''\n",
       "(0020, 0032) Image Position (Patient)            DS: [-125.000, -145.337, 71.652]\n",
       "(0020, 0037) Image Orientation (Patient)         DS: [1.000000, 0.000000, 0.000000, 0.000000, 0.976296, -0.216440]\n",
       "(0028, 0002) Samples per Pixel                   US: 1\n",
       "(0028, 0004) Photometric Interpretation          CS: 'MONOCHROME2'\n",
       "(0028, 0010) Rows                                US: 512\n",
       "(0028, 0011) Columns                             US: 512\n",
       "(0028, 0030) Pixel Spacing                       DS: [0.488281, 0.488281]\n",
       "(0028, 0100) Bits Allocated                      US: 16\n",
       "(0028, 0101) Bits Stored                         US: 16\n",
       "(0028, 0102) High Bit                            US: 15\n",
       "(0028, 0103) Pixel Representation                US: 1\n",
       "(0028, 1050) Window Center                       DS: \"30.0\"\n",
       "(0028, 1051) Window Width                        DS: \"80.0\"\n",
       "(0028, 1052) Rescale Intercept                   DS: \"-1024.0\"\n",
       "(0028, 1053) Rescale Slope                       DS: \"1.0\"\n",
       "(7fe0, 0010) Pixel Data                          OW: Array of 524288 elements"
      ]
     },
     "execution_count": 10,
     "metadata": {},
     "output_type": "execute_result"
    }
   ],
   "source": [
    "dicom_data"
   ]
  },
  {
   "cell_type": "code",
   "execution_count": 11,
   "metadata": {},
   "outputs": [
    {
     "name": "stdout",
     "output_type": "stream",
     "text": [
      "CPU times: user 3min 47s, sys: 1min 34s, total: 5min 21s\n",
      "Wall time: 10min 5s\n"
     ]
    }
   ],
   "source": [
    "%%time\n",
    "dicom_per_patient = {}\n",
    "for ID in df['ID']:\n",
    "    dicom_file = f\"{ID}.dcm\"\n",
    "    dicom_data = pydicom.dcmread(os.path.join(DICOM_DATA_DIR, dicom_file))\n",
    "    patient_id = dicom_data.PatientID\n",
    "    if patient_id in dicom_per_patient.keys():\n",
    "        dicom_per_patient[patient_id].append(dicom_file)\n",
    "    else:\n",
    "        dicom_per_patient[patient_id] = [dicom_file]"
   ]
  },
  {
   "cell_type": "code",
   "execution_count": null,
   "metadata": {},
   "outputs": [],
   "source": []
  },
  {
   "cell_type": "markdown",
   "metadata": {},
   "source": [
    "# Train, valid and test (patient split)"
   ]
  },
  {
   "cell_type": "code",
   "execution_count": 12,
   "metadata": {},
   "outputs": [
    {
     "name": "stdout",
     "output_type": "stream",
     "text": [
      "17044 patients for train, 947 for valid and 947 for test\n"
     ]
    }
   ],
   "source": [
    "patients = list(dicom_per_patient.keys())\n",
    "random.shuffle(patients)\n",
    "\n",
    "num_patients = len(patients)\n",
    "num_train_patients = int(0.9 * num_patients)\n",
    "num_valid_patients = (num_patients - num_train_patients) // 2\n",
    "num_test_patients = num_patients - num_train_patients - num_valid_patients\n",
    "\n",
    "print(f'{num_train_patients} patients for train, {num_valid_patients} for valid and {num_test_patients} for test')"
   ]
  },
  {
   "cell_type": "code",
   "execution_count": 13,
   "metadata": {},
   "outputs": [
    {
     "name": "stdout",
     "output_type": "stream",
     "text": [
      "17044 947 947\n"
     ]
    }
   ],
   "source": [
    "patients_train = patients[:num_train_patients]\n",
    "patients_valid = patients[num_train_patients:num_train_patients + num_valid_patients]\n",
    "patients_test = patients[num_train_patients + num_valid_patients:]\n",
    "print(len(patients_train), len(patients_valid), len(patients_test))"
   ]
  },
  {
   "cell_type": "code",
   "execution_count": 14,
   "metadata": {},
   "outputs": [],
   "source": [
    "# sum([[1],[2],[3]], []) = [1,2,3]\n",
    "dicom_files_train = sum([dicom_per_patient[patient_id] for patient_id in patients_train] ,[])\n",
    "dicom_files_valid = sum([dicom_per_patient[patient_id] for patient_id in patients_valid] ,[])\n",
    "dicom_files_test = sum([dicom_per_patient[patient_id] for patient_id in patients_test] ,[])"
   ]
  },
  {
   "cell_type": "code",
   "execution_count": 15,
   "metadata": {},
   "outputs": [],
   "source": [
    "dicom_IDs_train = list(map(lambda x: x[:-4], dicom_files_train))\n",
    "dicom_IDs_valid = list(map(lambda x: x[:-4], dicom_files_valid))\n",
    "dicom_IDs_test = list(map(lambda x: x[:-4], dicom_files_test))"
   ]
  },
  {
   "cell_type": "code",
   "execution_count": 16,
   "metadata": {},
   "outputs": [],
   "source": [
    "df_train = df[df['ID'].isin(dicom_IDs_train)]\n",
    "df_valid = df[df['ID'].isin(dicom_IDs_valid)]\n",
    "df_test = df[df['ID'].isin(dicom_IDs_test)]"
   ]
  },
  {
   "cell_type": "code",
   "execution_count": 17,
   "metadata": {},
   "outputs": [
    {
     "data": {
      "text/html": [
       "<div>\n",
       "<style scoped>\n",
       "    .dataframe tbody tr th:only-of-type {\n",
       "        vertical-align: middle;\n",
       "    }\n",
       "\n",
       "    .dataframe tbody tr th {\n",
       "        vertical-align: top;\n",
       "    }\n",
       "\n",
       "    .dataframe thead th {\n",
       "        text-align: right;\n",
       "    }\n",
       "</style>\n",
       "<table border=\"1\" class=\"dataframe\">\n",
       "  <thead>\n",
       "    <tr style=\"text-align: right;\">\n",
       "      <th></th>\n",
       "      <th>ID</th>\n",
       "      <th>IH</th>\n",
       "    </tr>\n",
       "  </thead>\n",
       "  <tbody>\n",
       "    <tr>\n",
       "      <th>5</th>\n",
       "      <td>ID_12cadc6af</td>\n",
       "      <td>0</td>\n",
       "    </tr>\n",
       "    <tr>\n",
       "      <th>11</th>\n",
       "      <td>ID_38fd7baa0</td>\n",
       "      <td>0</td>\n",
       "    </tr>\n",
       "    <tr>\n",
       "      <th>17</th>\n",
       "      <td>ID_6c5d82413</td>\n",
       "      <td>0</td>\n",
       "    </tr>\n",
       "    <tr>\n",
       "      <th>23</th>\n",
       "      <td>ID_aec8e68b3</td>\n",
       "      <td>1</td>\n",
       "    </tr>\n",
       "    <tr>\n",
       "      <th>29</th>\n",
       "      <td>ID_4d9209c7c</td>\n",
       "      <td>0</td>\n",
       "    </tr>\n",
       "    <tr>\n",
       "      <th>...</th>\n",
       "      <td>...</td>\n",
       "      <td>...</td>\n",
       "    </tr>\n",
       "    <tr>\n",
       "      <th>4516811</th>\n",
       "      <td>ID_70ecab234</td>\n",
       "      <td>0</td>\n",
       "    </tr>\n",
       "    <tr>\n",
       "      <th>4516817</th>\n",
       "      <td>ID_41029e8f0</td>\n",
       "      <td>0</td>\n",
       "    </tr>\n",
       "    <tr>\n",
       "      <th>4516823</th>\n",
       "      <td>ID_4b74ffd24</td>\n",
       "      <td>0</td>\n",
       "    </tr>\n",
       "    <tr>\n",
       "      <th>4516835</th>\n",
       "      <td>ID_8079930a8</td>\n",
       "      <td>0</td>\n",
       "    </tr>\n",
       "    <tr>\n",
       "      <th>4516841</th>\n",
       "      <td>ID_4a85a3a3f</td>\n",
       "      <td>0</td>\n",
       "    </tr>\n",
       "  </tbody>\n",
       "</table>\n",
       "<p>678459 rows × 2 columns</p>\n",
       "</div>"
      ],
      "text/plain": [
       "                   ID  IH\n",
       "5        ID_12cadc6af   0\n",
       "11       ID_38fd7baa0   0\n",
       "17       ID_6c5d82413   0\n",
       "23       ID_aec8e68b3   1\n",
       "29       ID_4d9209c7c   0\n",
       "...               ...  ..\n",
       "4516811  ID_70ecab234   0\n",
       "4516817  ID_41029e8f0   0\n",
       "4516823  ID_4b74ffd24   0\n",
       "4516835  ID_8079930a8   0\n",
       "4516841  ID_4a85a3a3f   0\n",
       "\n",
       "[678459 rows x 2 columns]"
      ]
     },
     "execution_count": 17,
     "metadata": {},
     "output_type": "execute_result"
    }
   ],
   "source": [
    "df_train"
   ]
  },
  {
   "cell_type": "code",
   "execution_count": 18,
   "metadata": {},
   "outputs": [
    {
     "data": {
      "text/html": [
       "<div>\n",
       "<style scoped>\n",
       "    .dataframe tbody tr th:only-of-type {\n",
       "        vertical-align: middle;\n",
       "    }\n",
       "\n",
       "    .dataframe tbody tr th {\n",
       "        vertical-align: top;\n",
       "    }\n",
       "\n",
       "    .dataframe thead th {\n",
       "        text-align: right;\n",
       "    }\n",
       "</style>\n",
       "<table border=\"1\" class=\"dataframe\">\n",
       "  <thead>\n",
       "    <tr style=\"text-align: right;\">\n",
       "      <th></th>\n",
       "      <th>ID</th>\n",
       "      <th>IH</th>\n",
       "    </tr>\n",
       "  </thead>\n",
       "  <tbody>\n",
       "    <tr>\n",
       "      <th>317</th>\n",
       "      <td>ID_a837bb1fc</td>\n",
       "      <td>1</td>\n",
       "    </tr>\n",
       "    <tr>\n",
       "      <th>563</th>\n",
       "      <td>ID_7c71b48a3</td>\n",
       "      <td>1</td>\n",
       "    </tr>\n",
       "    <tr>\n",
       "      <th>1043</th>\n",
       "      <td>ID_8261293e1</td>\n",
       "      <td>0</td>\n",
       "    </tr>\n",
       "    <tr>\n",
       "      <th>1211</th>\n",
       "      <td>ID_316ba46e1</td>\n",
       "      <td>0</td>\n",
       "    </tr>\n",
       "    <tr>\n",
       "      <th>1523</th>\n",
       "      <td>ID_154bf7e8e</td>\n",
       "      <td>0</td>\n",
       "    </tr>\n",
       "    <tr>\n",
       "      <th>...</th>\n",
       "      <td>...</td>\n",
       "      <td>...</td>\n",
       "    </tr>\n",
       "    <tr>\n",
       "      <th>4516025</th>\n",
       "      <td>ID_b284aa45d</td>\n",
       "      <td>1</td>\n",
       "    </tr>\n",
       "    <tr>\n",
       "      <th>4516181</th>\n",
       "      <td>ID_186a81461</td>\n",
       "      <td>1</td>\n",
       "    </tr>\n",
       "    <tr>\n",
       "      <th>4516445</th>\n",
       "      <td>ID_a9338c341</td>\n",
       "      <td>0</td>\n",
       "    </tr>\n",
       "    <tr>\n",
       "      <th>4516481</th>\n",
       "      <td>ID_a72effde8</td>\n",
       "      <td>0</td>\n",
       "    </tr>\n",
       "    <tr>\n",
       "      <th>4516625</th>\n",
       "      <td>ID_605137154</td>\n",
       "      <td>0</td>\n",
       "    </tr>\n",
       "  </tbody>\n",
       "</table>\n",
       "<p>36575 rows × 2 columns</p>\n",
       "</div>"
      ],
      "text/plain": [
       "                   ID  IH\n",
       "317      ID_a837bb1fc   1\n",
       "563      ID_7c71b48a3   1\n",
       "1043     ID_8261293e1   0\n",
       "1211     ID_316ba46e1   0\n",
       "1523     ID_154bf7e8e   0\n",
       "...               ...  ..\n",
       "4516025  ID_b284aa45d   1\n",
       "4516181  ID_186a81461   1\n",
       "4516445  ID_a9338c341   0\n",
       "4516481  ID_a72effde8   0\n",
       "4516625  ID_605137154   0\n",
       "\n",
       "[36575 rows x 2 columns]"
      ]
     },
     "execution_count": 18,
     "metadata": {},
     "output_type": "execute_result"
    }
   ],
   "source": [
    "df_valid"
   ]
  },
  {
   "cell_type": "code",
   "execution_count": 19,
   "metadata": {
    "scrolled": true
   },
   "outputs": [
    {
     "data": {
      "text/html": [
       "<div>\n",
       "<style scoped>\n",
       "    .dataframe tbody tr th:only-of-type {\n",
       "        vertical-align: middle;\n",
       "    }\n",
       "\n",
       "    .dataframe tbody tr th {\n",
       "        vertical-align: top;\n",
       "    }\n",
       "\n",
       "    .dataframe thead th {\n",
       "        text-align: right;\n",
       "    }\n",
       "</style>\n",
       "<table border=\"1\" class=\"dataframe\">\n",
       "  <thead>\n",
       "    <tr style=\"text-align: right;\">\n",
       "      <th></th>\n",
       "      <th>ID</th>\n",
       "      <th>IH</th>\n",
       "    </tr>\n",
       "  </thead>\n",
       "  <tbody>\n",
       "    <tr>\n",
       "      <th>83</th>\n",
       "      <td>ID_d7c4441ee</td>\n",
       "      <td>0</td>\n",
       "    </tr>\n",
       "    <tr>\n",
       "      <th>113</th>\n",
       "      <td>ID_38922f8ce</td>\n",
       "      <td>0</td>\n",
       "    </tr>\n",
       "    <tr>\n",
       "      <th>227</th>\n",
       "      <td>ID_93f4c7426</td>\n",
       "      <td>0</td>\n",
       "    </tr>\n",
       "    <tr>\n",
       "      <th>341</th>\n",
       "      <td>ID_17490a6a3</td>\n",
       "      <td>0</td>\n",
       "    </tr>\n",
       "    <tr>\n",
       "      <th>431</th>\n",
       "      <td>ID_d479518a7</td>\n",
       "      <td>0</td>\n",
       "    </tr>\n",
       "    <tr>\n",
       "      <th>...</th>\n",
       "      <td>...</td>\n",
       "      <td>...</td>\n",
       "    </tr>\n",
       "    <tr>\n",
       "      <th>4516361</th>\n",
       "      <td>ID_2155ef1b4</td>\n",
       "      <td>1</td>\n",
       "    </tr>\n",
       "    <tr>\n",
       "      <th>4516535</th>\n",
       "      <td>ID_ab119e3db</td>\n",
       "      <td>0</td>\n",
       "    </tr>\n",
       "    <tr>\n",
       "      <th>4516559</th>\n",
       "      <td>ID_af06b825e</td>\n",
       "      <td>1</td>\n",
       "    </tr>\n",
       "    <tr>\n",
       "      <th>4516619</th>\n",
       "      <td>ID_21ec17a17</td>\n",
       "      <td>0</td>\n",
       "    </tr>\n",
       "    <tr>\n",
       "      <th>4516829</th>\n",
       "      <td>ID_e5c02a4ca</td>\n",
       "      <td>0</td>\n",
       "    </tr>\n",
       "  </tbody>\n",
       "</table>\n",
       "<p>37765 rows × 2 columns</p>\n",
       "</div>"
      ],
      "text/plain": [
       "                   ID  IH\n",
       "83       ID_d7c4441ee   0\n",
       "113      ID_38922f8ce   0\n",
       "227      ID_93f4c7426   0\n",
       "341      ID_17490a6a3   0\n",
       "431      ID_d479518a7   0\n",
       "...               ...  ..\n",
       "4516361  ID_2155ef1b4   1\n",
       "4516535  ID_ab119e3db   0\n",
       "4516559  ID_af06b825e   1\n",
       "4516619  ID_21ec17a17   0\n",
       "4516829  ID_e5c02a4ca   0\n",
       "\n",
       "[37765 rows x 2 columns]"
      ]
     },
     "execution_count": 19,
     "metadata": {},
     "output_type": "execute_result"
    }
   ],
   "source": [
    "df_test"
   ]
  },
  {
   "cell_type": "markdown",
   "metadata": {},
   "source": [
    "## Sanity check: all the dicom files exists"
   ]
  },
  {
   "cell_type": "code",
   "execution_count": 20,
   "metadata": {},
   "outputs": [],
   "source": [
    "#Commented because it's a lot of time consuming\n",
    "#%%time\n",
    "#dcm_ids = list(map(lambda x: x[:-4], os.listdir(DICOM_DATA_DIR)))\n",
    "#print(all(df_train['ID'].isin(dcm_files)), all(df_valid['ID'].isin(dcm_files)), all(df_test['ID'].isin(dcm_files)))\n",
    "#IDs = df_train['ID'].values.tolist() + df_valid['ID'].values.tolist() + df_test['ID'].values.tolist()\n",
    "#print(sum(not ID in dcm_ids for ID in IDs))"
   ]
  },
  {
   "cell_type": "code",
   "execution_count": 21,
   "metadata": {},
   "outputs": [
    {
     "name": "stdout",
     "output_type": "stream",
     "text": [
      "Train: \n",
      "\tn_IH: 97525\n",
      "\tn_noIH: 580934\n",
      "Train: \n",
      "\tn_IH: 5401\n",
      "\tn_noIH: 31174\n",
      "Train: \n",
      "\tn_IH: 5007\n",
      "\tn_noIH: 32758\n"
     ]
    }
   ],
   "source": [
    "n_IH_train = df_train['IH'].sum()\n",
    "n_noIH_train = df_train.shape[0] - n_IH_train\n",
    "print(f'Train: \\n\\tn_IH: {n_IH_train}\\n\\tn_noIH: {n_noIH_train}')\n",
    "\n",
    "n_IH_valid = df_valid['IH'].sum()\n",
    "n_noIH_valid = df_valid.shape[0] - n_IH_valid\n",
    "print(f'Train: \\n\\tn_IH: {n_IH_valid}\\n\\tn_noIH: {n_noIH_valid}')\n",
    "\n",
    "n_IH_test = df_test['IH'].sum()\n",
    "n_noIH_test = df_test.shape[0] - n_IH_test\n",
    "print(f'Train: \\n\\tn_IH: {n_IH_test}\\n\\tn_noIH: {n_noIH_test}')"
   ]
  },
  {
   "cell_type": "code",
   "execution_count": 22,
   "metadata": {},
   "outputs": [],
   "source": [
    "noIH_idxs_train = df_train[df_train['IH'] == 0].index.tolist()\n",
    "noIH_idxs_valid = df_valid[df_valid['IH'] == 0].index.tolist()\n",
    "noIH_idxs_test = df_test[df_test['IH'] == 0].index.tolist()\n",
    "\n",
    "random.shuffle(noIH_idxs_train)\n",
    "random.shuffle(noIH_idxs_valid)\n",
    "random.shuffle(noIH_idxs_test)\n",
    "\n",
    "selected_noIH_idxs_train = noIH_idxs_train[:n_IH_train]\n",
    "selected_noIH_idxs_valid = noIH_idxs_valid[:n_IH_valid]\n",
    "selected_noIH_idxs_test = noIH_idxs_test[:n_IH_test]"
   ]
  },
  {
   "cell_type": "code",
   "execution_count": 23,
   "metadata": {},
   "outputs": [],
   "source": [
    "selected_idxs_train = selected_noIH_idxs_train + df_train[df_train['IH'] == 1].index.tolist()\n",
    "selected_idxs_valid = selected_noIH_idxs_valid + df_valid[df_valid['IH'] == 1].index.tolist()\n",
    "selected_idxs_test = selected_noIH_idxs_test + df_test[df_test['IH'] == 1].index.tolist()"
   ]
  },
  {
   "cell_type": "code",
   "execution_count": 24,
   "metadata": {},
   "outputs": [
    {
     "name": "stdout",
     "output_type": "stream",
     "text": [
      "0.5\n",
      "0.5\n",
      "0.5\n"
     ]
    }
   ],
   "source": [
    "balanced_df_train = df_train.loc[selected_idxs_train, :]\n",
    "balanced_df_valid = df_valid.loc[selected_idxs_valid, :]\n",
    "balanced_df_test = df_test.loc[selected_idxs_test, :]\n",
    "\n",
    "print(sum(balanced_df_train['IH']) / balanced_df_train.shape[0])\n",
    "print(sum(balanced_df_valid['IH']) / balanced_df_valid.shape[0])\n",
    "print(sum(balanced_df_test['IH']) / balanced_df_test.shape[0])"
   ]
  },
  {
   "cell_type": "code",
   "execution_count": 25,
   "metadata": {
    "scrolled": true
   },
   "outputs": [
    {
     "data": {
      "text/html": [
       "<div>\n",
       "<style scoped>\n",
       "    .dataframe tbody tr th:only-of-type {\n",
       "        vertical-align: middle;\n",
       "    }\n",
       "\n",
       "    .dataframe tbody tr th {\n",
       "        vertical-align: top;\n",
       "    }\n",
       "\n",
       "    .dataframe thead th {\n",
       "        text-align: right;\n",
       "    }\n",
       "</style>\n",
       "<table border=\"1\" class=\"dataframe\">\n",
       "  <thead>\n",
       "    <tr style=\"text-align: right;\">\n",
       "      <th></th>\n",
       "      <th>ID</th>\n",
       "      <th>IH</th>\n",
       "    </tr>\n",
       "  </thead>\n",
       "  <tbody>\n",
       "    <tr>\n",
       "      <th>2094275</th>\n",
       "      <td>ID_de4586002</td>\n",
       "      <td>0</td>\n",
       "    </tr>\n",
       "    <tr>\n",
       "      <th>4432883</th>\n",
       "      <td>ID_1c7e0b803</td>\n",
       "      <td>0</td>\n",
       "    </tr>\n",
       "    <tr>\n",
       "      <th>3676313</th>\n",
       "      <td>ID_7c5d2d53a</td>\n",
       "      <td>0</td>\n",
       "    </tr>\n",
       "    <tr>\n",
       "      <th>4364033</th>\n",
       "      <td>ID_febb055fc</td>\n",
       "      <td>0</td>\n",
       "    </tr>\n",
       "    <tr>\n",
       "      <th>3428903</th>\n",
       "      <td>ID_fe6d8d454</td>\n",
       "      <td>0</td>\n",
       "    </tr>\n",
       "    <tr>\n",
       "      <th>...</th>\n",
       "      <td>...</td>\n",
       "      <td>...</td>\n",
       "    </tr>\n",
       "    <tr>\n",
       "      <th>4516493</th>\n",
       "      <td>ID_f648820ce</td>\n",
       "      <td>1</td>\n",
       "    </tr>\n",
       "    <tr>\n",
       "      <th>4516505</th>\n",
       "      <td>ID_012b4b6d8</td>\n",
       "      <td>1</td>\n",
       "    </tr>\n",
       "    <tr>\n",
       "      <th>4516541</th>\n",
       "      <td>ID_cade771b5</td>\n",
       "      <td>1</td>\n",
       "    </tr>\n",
       "    <tr>\n",
       "      <th>4516649</th>\n",
       "      <td>ID_21ea5fffb</td>\n",
       "      <td>1</td>\n",
       "    </tr>\n",
       "    <tr>\n",
       "      <th>4516727</th>\n",
       "      <td>ID_e18ad2955</td>\n",
       "      <td>1</td>\n",
       "    </tr>\n",
       "  </tbody>\n",
       "</table>\n",
       "<p>195050 rows × 2 columns</p>\n",
       "</div>"
      ],
      "text/plain": [
       "                   ID  IH\n",
       "2094275  ID_de4586002   0\n",
       "4432883  ID_1c7e0b803   0\n",
       "3676313  ID_7c5d2d53a   0\n",
       "4364033  ID_febb055fc   0\n",
       "3428903  ID_fe6d8d454   0\n",
       "...               ...  ..\n",
       "4516493  ID_f648820ce   1\n",
       "4516505  ID_012b4b6d8   1\n",
       "4516541  ID_cade771b5   1\n",
       "4516649  ID_21ea5fffb   1\n",
       "4516727  ID_e18ad2955   1\n",
       "\n",
       "[195050 rows x 2 columns]"
      ]
     },
     "execution_count": 25,
     "metadata": {},
     "output_type": "execute_result"
    }
   ],
   "source": [
    "balanced_df_train"
   ]
  },
  {
   "cell_type": "code",
   "execution_count": 26,
   "metadata": {},
   "outputs": [
    {
     "data": {
      "text/html": [
       "<div>\n",
       "<style scoped>\n",
       "    .dataframe tbody tr th:only-of-type {\n",
       "        vertical-align: middle;\n",
       "    }\n",
       "\n",
       "    .dataframe tbody tr th {\n",
       "        vertical-align: top;\n",
       "    }\n",
       "\n",
       "    .dataframe thead th {\n",
       "        text-align: right;\n",
       "    }\n",
       "</style>\n",
       "<table border=\"1\" class=\"dataframe\">\n",
       "  <thead>\n",
       "    <tr style=\"text-align: right;\">\n",
       "      <th></th>\n",
       "      <th>ID</th>\n",
       "      <th>IH</th>\n",
       "    </tr>\n",
       "  </thead>\n",
       "  <tbody>\n",
       "    <tr>\n",
       "      <th>980261</th>\n",
       "      <td>ID_8ab8a477b</td>\n",
       "      <td>0</td>\n",
       "    </tr>\n",
       "    <tr>\n",
       "      <th>4476569</th>\n",
       "      <td>ID_7adeb12c8</td>\n",
       "      <td>0</td>\n",
       "    </tr>\n",
       "    <tr>\n",
       "      <th>271589</th>\n",
       "      <td>ID_dfd7132dd</td>\n",
       "      <td>0</td>\n",
       "    </tr>\n",
       "    <tr>\n",
       "      <th>549275</th>\n",
       "      <td>ID_d3c000ccf</td>\n",
       "      <td>0</td>\n",
       "    </tr>\n",
       "    <tr>\n",
       "      <th>3261005</th>\n",
       "      <td>ID_d9b550a8a</td>\n",
       "      <td>0</td>\n",
       "    </tr>\n",
       "    <tr>\n",
       "      <th>...</th>\n",
       "      <td>...</td>\n",
       "      <td>...</td>\n",
       "    </tr>\n",
       "    <tr>\n",
       "      <th>4512977</th>\n",
       "      <td>ID_b063156d1</td>\n",
       "      <td>1</td>\n",
       "    </tr>\n",
       "    <tr>\n",
       "      <th>4514735</th>\n",
       "      <td>ID_f677f9035</td>\n",
       "      <td>1</td>\n",
       "    </tr>\n",
       "    <tr>\n",
       "      <th>4515779</th>\n",
       "      <td>ID_642dac43c</td>\n",
       "      <td>1</td>\n",
       "    </tr>\n",
       "    <tr>\n",
       "      <th>4516025</th>\n",
       "      <td>ID_b284aa45d</td>\n",
       "      <td>1</td>\n",
       "    </tr>\n",
       "    <tr>\n",
       "      <th>4516181</th>\n",
       "      <td>ID_186a81461</td>\n",
       "      <td>1</td>\n",
       "    </tr>\n",
       "  </tbody>\n",
       "</table>\n",
       "<p>10802 rows × 2 columns</p>\n",
       "</div>"
      ],
      "text/plain": [
       "                   ID  IH\n",
       "980261   ID_8ab8a477b   0\n",
       "4476569  ID_7adeb12c8   0\n",
       "271589   ID_dfd7132dd   0\n",
       "549275   ID_d3c000ccf   0\n",
       "3261005  ID_d9b550a8a   0\n",
       "...               ...  ..\n",
       "4512977  ID_b063156d1   1\n",
       "4514735  ID_f677f9035   1\n",
       "4515779  ID_642dac43c   1\n",
       "4516025  ID_b284aa45d   1\n",
       "4516181  ID_186a81461   1\n",
       "\n",
       "[10802 rows x 2 columns]"
      ]
     },
     "execution_count": 26,
     "metadata": {},
     "output_type": "execute_result"
    }
   ],
   "source": [
    "balanced_df_valid"
   ]
  },
  {
   "cell_type": "code",
   "execution_count": 27,
   "metadata": {},
   "outputs": [
    {
     "data": {
      "text/html": [
       "<div>\n",
       "<style scoped>\n",
       "    .dataframe tbody tr th:only-of-type {\n",
       "        vertical-align: middle;\n",
       "    }\n",
       "\n",
       "    .dataframe tbody tr th {\n",
       "        vertical-align: top;\n",
       "    }\n",
       "\n",
       "    .dataframe thead th {\n",
       "        text-align: right;\n",
       "    }\n",
       "</style>\n",
       "<table border=\"1\" class=\"dataframe\">\n",
       "  <thead>\n",
       "    <tr style=\"text-align: right;\">\n",
       "      <th></th>\n",
       "      <th>ID</th>\n",
       "      <th>IH</th>\n",
       "    </tr>\n",
       "  </thead>\n",
       "  <tbody>\n",
       "    <tr>\n",
       "      <th>3933251</th>\n",
       "      <td>ID_f29d0b2bb</td>\n",
       "      <td>0</td>\n",
       "    </tr>\n",
       "    <tr>\n",
       "      <th>2060783</th>\n",
       "      <td>ID_9bd655fc8</td>\n",
       "      <td>0</td>\n",
       "    </tr>\n",
       "    <tr>\n",
       "      <th>2339795</th>\n",
       "      <td>ID_d137956a1</td>\n",
       "      <td>0</td>\n",
       "    </tr>\n",
       "    <tr>\n",
       "      <th>4482965</th>\n",
       "      <td>ID_5a30a75c3</td>\n",
       "      <td>0</td>\n",
       "    </tr>\n",
       "    <tr>\n",
       "      <th>3215417</th>\n",
       "      <td>ID_00c210221</td>\n",
       "      <td>0</td>\n",
       "    </tr>\n",
       "    <tr>\n",
       "      <th>...</th>\n",
       "      <td>...</td>\n",
       "      <td>...</td>\n",
       "    </tr>\n",
       "    <tr>\n",
       "      <th>4510601</th>\n",
       "      <td>ID_df5454dd2</td>\n",
       "      <td>1</td>\n",
       "    </tr>\n",
       "    <tr>\n",
       "      <th>4513013</th>\n",
       "      <td>ID_803b83de0</td>\n",
       "      <td>1</td>\n",
       "    </tr>\n",
       "    <tr>\n",
       "      <th>4514933</th>\n",
       "      <td>ID_e3bbb9906</td>\n",
       "      <td>1</td>\n",
       "    </tr>\n",
       "    <tr>\n",
       "      <th>4516361</th>\n",
       "      <td>ID_2155ef1b4</td>\n",
       "      <td>1</td>\n",
       "    </tr>\n",
       "    <tr>\n",
       "      <th>4516559</th>\n",
       "      <td>ID_af06b825e</td>\n",
       "      <td>1</td>\n",
       "    </tr>\n",
       "  </tbody>\n",
       "</table>\n",
       "<p>10014 rows × 2 columns</p>\n",
       "</div>"
      ],
      "text/plain": [
       "                   ID  IH\n",
       "3933251  ID_f29d0b2bb   0\n",
       "2060783  ID_9bd655fc8   0\n",
       "2339795  ID_d137956a1   0\n",
       "4482965  ID_5a30a75c3   0\n",
       "3215417  ID_00c210221   0\n",
       "...               ...  ..\n",
       "4510601  ID_df5454dd2   1\n",
       "4513013  ID_803b83de0   1\n",
       "4514933  ID_e3bbb9906   1\n",
       "4516361  ID_2155ef1b4   1\n",
       "4516559  ID_af06b825e   1\n",
       "\n",
       "[10014 rows x 2 columns]"
      ]
     },
     "execution_count": 27,
     "metadata": {},
     "output_type": "execute_result"
    }
   ],
   "source": [
    "balanced_df_test"
   ]
  },
  {
   "cell_type": "markdown",
   "metadata": {},
   "source": [
    "# Save annots and dataset"
   ]
  },
  {
   "cell_type": "code",
   "execution_count": 28,
   "metadata": {},
   "outputs": [
    {
     "data": {
      "text/plain": [
       "0"
      ]
     },
     "execution_count": 28,
     "metadata": {},
     "output_type": "execute_result"
    }
   ],
   "source": [
    "if os.path.exists('./data/'): rmtree('./data/')\n",
    "os.system('mkdir ./data/ ./data/set/ ./data/set/train/ ./data/set/valid/ ./data/set/test ./data/annots/')"
   ]
  },
  {
   "cell_type": "code",
   "execution_count": 29,
   "metadata": {},
   "outputs": [],
   "source": [
    "balanced_df_train.to_csv('./data/annots/train.csv',index=False)\n",
    "balanced_df_valid.to_csv('./data/annots/valid.csv', index=False)\n",
    "balanced_df_test.to_csv('./data/annots/test.csv', index=False)"
   ]
  },
  {
   "cell_type": "code",
   "execution_count": 30,
   "metadata": {},
   "outputs": [
    {
     "name": "stdout",
     "output_type": "stream",
     "text": [
      "Count: 10000\n",
      "Count: 20000\n",
      "Count: 30000\n",
      "Count: 40000\n",
      "Count: 50000\n",
      "Count: 60000\n",
      "Count: 70000\n",
      "Count: 80000\n",
      "Count: 90000\n",
      "Count: 100000\n",
      "Count: 110000\n",
      "Count: 120000\n",
      "Count: 130000\n",
      "Count: 140000\n",
      "Count: 150000\n",
      "Count: 160000\n",
      "Count: 170000\n",
      "Count: 180000\n",
      "Count: 190000\n",
      "195050 files moved. Expected: 195050\n"
     ]
    }
   ],
   "source": [
    "count = 0\n",
    "for img_id in balanced_df_train['ID'].values.tolist():\n",
    "    path = os.path.join(DICOM_DATA_DIR, f'{img_id}.dcm')\n",
    "    path2 = f'./data/set/train/{img_id}.dcm'\n",
    "    os.system(f'cp {path} {path2}')\n",
    "    count +=1\n",
    "    if count % 10000 == 0:\n",
    "        print('Count:', count)\n",
    "print(f'{count} files moved. Expected: {balanced_df_train.shape[0]}')"
   ]
  },
  {
   "cell_type": "code",
   "execution_count": 31,
   "metadata": {},
   "outputs": [
    {
     "name": "stdout",
     "output_type": "stream",
     "text": [
      "Count: 1000\n",
      "Count: 2000\n",
      "Count: 3000\n",
      "Count: 4000\n",
      "Count: 5000\n",
      "Count: 6000\n",
      "Count: 7000\n",
      "Count: 8000\n",
      "Count: 9000\n",
      "Count: 10000\n",
      "10802 files moved. Expected: 10802\n"
     ]
    }
   ],
   "source": [
    "count = 0\n",
    "for img_id in balanced_df_valid['ID'].values.tolist():\n",
    "    path = os.path.join(DICOM_DATA_DIR, f'{img_id}.dcm')\n",
    "    path2 = f'./data/set/valid/{img_id}.dcm'\n",
    "    os.system(f'cp {path} {path2}')\n",
    "    count +=1\n",
    "    if count % 1000 == 0:\n",
    "        print('Count:', count)\n",
    "print(f'{count} files moved. Expected: {balanced_df_valid.shape[0]}')"
   ]
  },
  {
   "cell_type": "code",
   "execution_count": 32,
   "metadata": {},
   "outputs": [
    {
     "name": "stdout",
     "output_type": "stream",
     "text": [
      "Count: 1000\n",
      "Count: 2000\n",
      "Count: 3000\n",
      "Count: 4000\n",
      "Count: 5000\n",
      "Count: 6000\n",
      "Count: 7000\n",
      "Count: 8000\n",
      "Count: 9000\n",
      "Count: 10000\n",
      "10014 files moved. Expected: 10014\n"
     ]
    }
   ],
   "source": [
    "count = 0\n",
    "for img_id in balanced_df_test['ID'].values.tolist():\n",
    "    path = os.path.join(DICOM_DATA_DIR, f'{img_id}.dcm')\n",
    "    path2 = f'./data/set/test/{img_id}.dcm'\n",
    "    os.system(f'cp {path} {path2}')\n",
    "    count +=1\n",
    "    if count % 1000 == 0:\n",
    "        print('Count:', count)\n",
    "print(f'{count} files moved. Expected: {balanced_df_test.shape[0]}')"
   ]
  },
  {
   "cell_type": "code",
   "execution_count": null,
   "metadata": {},
   "outputs": [],
   "source": []
  }
 ],
 "metadata": {
  "kernelspec": {
   "display_name": "Python 3",
   "language": "python",
   "name": "python3"
  },
  "language_info": {
   "codemirror_mode": {
    "name": "ipython",
    "version": 3
   },
   "file_extension": ".py",
   "mimetype": "text/x-python",
   "name": "python",
   "nbconvert_exporter": "python",
   "pygments_lexer": "ipython3",
   "version": "3.8.5"
  }
 },
 "nbformat": 4,
 "nbformat_minor": 4
}
